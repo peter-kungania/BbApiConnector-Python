{
 "cells": [
  {
   "cell_type": "code",
   "execution_count": null,
   "metadata": {},
   "outputs": [],
   "source": [
    "from bottle import route, run, template, request\n",
    "import requests\n",
    "import json\n",
    "from configparser import ConfigParser\n",
    "\n",
    "config_file_name = '.\\\\app_secrets_template.ini'\n",
    "config = ConfigParser()\n",
    "config.read(config_file_name)"
   ]
  },
  {
   "cell_type": "code",
   "execution_count": null,
   "metadata": {},
   "outputs": [],
   "source": [
    "@route('/')\n",
    "def index():\n",
    "    print_string = f'''\n",
    "        Welcome to the Blackbaud SKY API Authorization Code Generator!\n",
    "        <br><br>\n",
    "        Please go to this URL: <a href=\"https://oauth2.sky.blackbaud.com/authorization?client_id={config['app_secrets']['app_id']}&response_type=code&redirect_uri={config['other']['redirect_uri']}\">https://oauth2.sky.blackbaud.com/authorization?client_id={config['app_secrets']['app_id']}&response_type=code&redirect_uri={config['other']['redirect_uri']}</a>\n",
    "    '''\n",
    "\n",
    "    return print_string\n",
    "\n",
    "@route('/callback')\n",
    "def callback():\n",
    "    auth_code = request.query.code\n",
    "    get_access_refresh_tokens(auth_code)\n",
    "    return template('Your code is {{auth_code}}', auth_code=auth_code)\n"
   ]
  },
  {
   "cell_type": "code",
   "execution_count": null,
   "metadata": {},
   "outputs": [],
   "source": [
    "def get_access_refresh_tokens(auth_code):\n",
    "    token_uri = f'https://oauth2.sky.blackbaud.com/token'\n",
    "    params = {\n",
    "        'grant_type': 'authorization_code',\n",
    "        'redirect_uri': config['other']['redirect_uri'],\n",
    "        'code': auth_code,\n",
    "        'client_id': config['app_secrets']['app_id'],\n",
    "        'client_secret': config['app_secrets']['app_secret']\n",
    "    }\n",
    "    headers = {\n",
    "        'Content-Type': 'application/x-www-form-urlencoded'\n",
    "    }\n",
    "\n",
    "    codes = requests.post(token_uri, data=params, headers=headers)\n",
    "    print(codes.request.headers)\n",
    "    print(codes.text)\n"
   ]
  },
  {
   "cell_type": "code",
   "execution_count": null,
   "metadata": {},
   "outputs": [],
   "source": [
    "run(host='localhost', port=13631, debug=True)"
   ]
  },
  {
   "cell_type": "code",
   "execution_count": null,
   "metadata": {},
   "outputs": [],
   "source": []
  }
 ],
 "metadata": {
  "kernelspec": {
   "display_name": "Python 3.10.4 64-bit",
   "language": "python",
   "name": "python3"
  },
  "language_info": {
   "codemirror_mode": {
    "name": "ipython",
    "version": 3
   },
   "file_extension": ".py",
   "mimetype": "text/x-python",
   "name": "python",
   "nbconvert_exporter": "python",
   "pygments_lexer": "ipython3",
   "version": "3.10.4"
  },
  "orig_nbformat": 4,
  "vscode": {
   "interpreter": {
    "hash": "e5ffba3dab64c22de0e0582c816b6294310431eeb47eff5965e10b53c3d6147d"
   }
  }
 },
 "nbformat": 4,
 "nbformat_minor": 2
}
