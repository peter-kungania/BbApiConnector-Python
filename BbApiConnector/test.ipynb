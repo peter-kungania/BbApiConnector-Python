{
 "cells": [
  {
   "cell_type": "code",
   "execution_count": null,
   "metadata": {},
   "outputs": [],
   "source": [
    "from BbApiConnector import BbApiConnector"
   ]
  },
  {
   "cell_type": "code",
   "execution_count": null,
   "metadata": {},
   "outputs": [],
   "source": [
    "api_conn = BbApiConnector('..\\\\resources\\\\app_secrets_template.json')"
   ]
  },
  {
   "cell_type": "code",
   "execution_count": null,
   "metadata": {},
   "outputs": [],
   "source": [
    "api_conn.get_session()"
   ]
  },
  {
   "cell_type": "code",
   "execution_count": null,
   "metadata": {},
   "outputs": [],
   "source": [
    "import requests\n",
    "import json\n",
    "def update_access_token(self):\n",
    "        token_uri = f'https://oauth2.sky.blackbaud.com/token'\n",
    "        headers = {\n",
    "            'Content-Type': 'application/x-www-form-urlencoded'\n",
    "        }\n",
    "        params = {\n",
    "            'grant_type': 'refresh_token',\n",
    "            'refresh_token': self._config['tokens']['refresh_token'],\n",
    "            'preserve_refresh_token': True,\n",
    "            'client_id': self._config['sky_app_information']['app_id'],\n",
    "            'client_secret': self._config['sky_app_information']['app_secret']\n",
    "        }\n",
    "        codes = requests.post(token_uri, data=params, headers=headers)\n",
    "        print(codes.json())\n",
    "        self._config['tokens']['access_token'] = codes.json()['access_token']\n",
    "        with open(self.config_file_name, 'w') as config_file:\n",
    "            json.dump(self._config, config_file, indent=4)\n",
    "            config_file.close()\n",
    "        \n",
    "        print(\"Access token updated.\")\n",
    "        return codes.json()['access_token']"
   ]
  },
  {
   "cell_type": "code",
   "execution_count": null,
   "metadata": {},
   "outputs": [],
   "source": [
    "update_access_token(api_conn)"
   ]
  },
  {
   "cell_type": "code",
   "execution_count": null,
   "metadata": {},
   "outputs": [],
   "source": []
  }
 ],
 "metadata": {
  "kernelspec": {
   "display_name": "Python 3.10.4 64-bit",
   "language": "python",
   "name": "python3"
  },
  "language_info": {
   "codemirror_mode": {
    "name": "ipython",
    "version": 3
   },
   "file_extension": ".py",
   "mimetype": "text/x-python",
   "name": "python",
   "nbconvert_exporter": "python",
   "pygments_lexer": "ipython3",
   "version": "3.10.4"
  },
  "orig_nbformat": 4,
  "vscode": {
   "interpreter": {
    "hash": "e5ffba3dab64c22de0e0582c816b6294310431eeb47eff5965e10b53c3d6147d"
   }
  }
 },
 "nbformat": 4,
 "nbformat_minor": 2
}
